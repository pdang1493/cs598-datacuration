{
 "cells": [
  {
   "cell_type": "code",
   "execution_count": 40,
   "id": "b34bf1dd-dffc-4575-bd46-c448f805b747",
   "metadata": {},
   "outputs": [
    {
     "name": "stdout",
     "output_type": "stream",
     "text": [
      "Requirement already satisfied: word2number in /opt/anaconda3/envs/cs416/lib/python3.10/site-packages (1.1)\n",
      "Note: you may need to restart the kernel to use updated packages.\n"
     ]
    }
   ],
   "source": [
    "\"\"\"\n",
    "Data Cleaning Script: MenuItem.csv – Standardizing Price Fields\n",
    "\n",
    "This script processes and standardizes the 'price' and 'high_price' columns\n",
    "in the MenuItem.csv dataset to ensure consistent numeric formatting for downstream analysis.\n",
    "\n",
    "Cleaning Tasks Performed:\n",
    "- Loads the raw dataset from MenuItem.csv.\n",
    "- Defines a `clean_price()` function that:\n",
    "    - Converts written words (e.g., \"two dollars\", \"three and a half\") to numeric floats.\n",
    "    - Handles fractions and mixed numbers (e.g., \"2 1/2\", \"3/4\").\n",
    "    - Removes currency symbols and unwanted characters.\n",
    "    - Returns NaN for unprocessable values.\n",
    "- Applies the cleaning function to both 'price' and 'high_price' columns.\n",
    "- Stores cleaned values in new columns: 'price_cleaned' and 'high_price_cleaned'.\n",
    "- Reorders columns for side-by-side comparison of original vs cleaned values.\n",
    "- Prints a preview of cleaned results and summary of changed values.\n",
    "- Saves the cleaned DataFrame as MenuItem_cleaned.csv with 'NaN' as placeholder for missing values.\n",
    "\n",
    "Dependencies:\n",
    "- pandas\n",
    "- numpy\n",
    "- re (regex)\n",
    "- word2number (w2n)\n",
    "\n",
    "Outputs:\n",
    "- Cleaned dataset: MenuItem_cleaned.csv\n",
    "- Terminal summary of how many price values were altered\n",
    "\n",
    "Use Case:\n",
    "- Supports Use Case U1 by ensuring all price values are numeric and analyzable (e.g., filtering, sorting, aggregation).\n",
    "\"\"\"\n"
   ]
  },
  {
   "cell_type": "code",
   "execution_count": 45,
   "id": "b79d394e-d6fc-4adb-8c00-891c5737c7c4",
   "metadata": {},
   "outputs": [
    {
     "name": "stdout",
     "output_type": "stream",
     "text": [
      "    price  price_cleaned  high_price  high_price_cleaned\n",
      "0    0.40           0.40         NaN                 NaN\n",
      "1    0.60           0.60         NaN                 NaN\n",
      "2    0.40           0.40         NaN                 NaN\n",
      "3    0.50           0.50         NaN                 NaN\n",
      "4    0.50           0.50         1.0                 1.0\n",
      "5    0.10           0.10         NaN                 NaN\n",
      "6    0.25           0.25         NaN                 NaN\n",
      "7    0.75           0.75         NaN                 NaN\n",
      "8    0.75           0.75         NaN                 NaN\n",
      "9    0.60           0.60         NaN                 NaN\n",
      "10   0.70           0.70         NaN                 NaN\n",
      "11   0.30           0.30         NaN                 NaN\n",
      "12    NaN            NaN         NaN                 NaN\n",
      "13   0.40           0.40         NaN                 NaN\n",
      "14   0.25           0.25         NaN                 NaN\n",
      "15   0.35           0.35         NaN                 NaN\n",
      "16   0.30           0.30         NaN                 NaN\n",
      "17   0.20           0.20         NaN                 NaN\n",
      "18   0.20           0.20         NaN                 NaN\n",
      "19   0.25           0.25         NaN                 NaN\n",
      "Price cleaned changes: 0\n",
      "High price cleaned changes: 0\n"
     ]
    }
   ],
   "source": [
    "import pandas as pd\n",
    "import numpy as np\n",
    "import re\n",
    "from word2number import w2n\n",
    "\n",
    "# Load the data\n",
    "df = pd.read_csv('MenuItem.csv')\n",
    "\n",
    "\n",
    "def clean_price(value):\n",
    "    if pd.isnull(value):\n",
    "        return np.nan\n",
    "    if isinstance(value, (int, float)):\n",
    "        return float(value)\n",
    "    \n",
    "    value = str(value).strip().lower()\n",
    "\n",
    "    # Remove $ signs and unwanted characters (but keep fractions)\n",
    "    value = re.sub(r'[^a-z0-9./ ]', '', value)\n",
    "\n",
    "    try:\n",
    "        # Convert written numbers like \"two\", \"five\"\n",
    "        # Fix common phrasing like \"three and a half\"\n",
    "        if 'and a half' in value:\n",
    "            parts = value.split('and a half')\n",
    "            value = str(w2n.word_to_num(parts[0].strip())) + '.5'\n",
    "        else:\n",
    "            value = str(w2n.word_to_num(value))\n",
    "\n",
    "        return float(value)\n",
    "    except:\n",
    "        pass\n",
    "\n",
    "    try:\n",
    "        # Handle fractions like \"3 1/2\"\n",
    "        if ' ' in value:\n",
    "            whole, frac = value.split(' ')\n",
    "            num, denom = frac.split('/')\n",
    "            return float(whole) + float(num) / float(denom)\n",
    "        elif '/' in value:\n",
    "            num, denom = value.split('/')\n",
    "            return float(num) / float(denom)\n",
    "    except:\n",
    "        pass\n",
    "\n",
    "    try:\n",
    "        return float(value)\n",
    "    except:\n",
    "        return np.nan\n",
    "\n",
    "# Clean both price columns\n",
    "df['price_cleaned'] = df['price'].apply(clean_price)\n",
    "df['high_price_cleaned'] = df['high_price'].apply(clean_price)\n",
    "\n",
    "# Reorder columns for easier comparison\n",
    "cols = list(df.columns)\n",
    "for col in ['price_cleaned', 'high_price_cleaned']:\n",
    "    cols.remove(col)\n",
    "\n",
    "cols.insert(cols.index('price') + 1, 'price_cleaned')\n",
    "cols.insert(cols.index('high_price') + 1, 'high_price_cleaned')\n",
    "\n",
    "df = df[cols]\n",
    "\n",
    "# Preview cleaned values\n",
    "print(df[['price', 'price_cleaned', 'high_price', 'high_price_cleaned']].head(20))\n",
    "\n",
    "#  Save cleaned version\n",
    "df.to_csv('MenuItem_cleaned.csv', index=False, na_rep='NaN')\n",
    "\n",
    "print(\"Price cleaned changes:\", (df['price'].astype(str) != df['price_cleaned'].astype(str)).sum())\n",
    "print(\"High price cleaned changes:\", (df['high_price'].astype(str) != df['high_price_cleaned'].astype(str)).sum())\n"
   ]
  },
  {
   "cell_type": "code",
   "execution_count": 46,
   "id": "ce14e3b5-6014-47ef-a172-de54b5a5343c",
   "metadata": {},
   "outputs": [
    {
     "name": "stdout",
     "output_type": "stream",
     "text": [
      "Testing clean_price function with sample inputs:\n",
      "\n",
      "one dollar => 1.0\n",
      "2 1/2 => 2.5\n",
      "$3.00 => 3.0\n",
      "0.75 => 0.75\n",
      "three and a half => 3.5\n",
      "3/4 => 0.75\n",
      "two => 2.0\n",
      "five dollars => 5.0\n"
     ]
    }
   ],
   "source": [
    "# Sample test values to validate clean_price logic\n",
    "test_values = ['one dollar', '2 1/2', '$3.00', '0.75', 'three and a half', '3/4', 'two', 'five dollars']\n",
    "\n",
    "# Print the cleaned version of each\n",
    "print(\"Testing clean_price function with sample inputs:\\n\")\n",
    "for val in test_values:\n",
    "    result = clean_price(val)\n",
    "    print(f\"{val} => {result}\")\n"
   ]
  },
  {
   "cell_type": "code",
   "execution_count": null,
   "id": "dd6c1ead-7550-445f-a0f3-b790f6557f51",
   "metadata": {},
   "outputs": [],
   "source": []
  }
 ],
 "metadata": {
  "kernelspec": {
   "display_name": "Python 3 (ipykernel)",
   "language": "python",
   "name": "python3"
  },
  "language_info": {
   "codemirror_mode": {
    "name": "ipython",
    "version": 3
   },
   "file_extension": ".py",
   "mimetype": "text/x-python",
   "name": "python",
   "nbconvert_exporter": "python",
   "pygments_lexer": "ipython3",
   "version": "3.10.18"
  }
 },
 "nbformat": 4,
 "nbformat_minor": 5
}
